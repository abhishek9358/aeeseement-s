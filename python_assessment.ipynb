{
 "cells": [
  {
   "cell_type": "code",
   "execution_count": 2,
   "metadata": {},
   "outputs": [
    {
     "name": "stdout",
     "output_type": "stream",
     "text": [
      "[2, 4, 6, 8, 10]\n"
     ]
    }
   ],
   "source": [
    "even_numbers = [num for num in [1, 2, 3, 4, 5, 6, 7, 8, 9, 10] if num % 2 == 0]\n",
    "print(even_numbers)  \n"
   ]
  },
  {
   "cell_type": "code",
   "execution_count": 3,
   "metadata": {},
   "outputs": [
    {
     "name": "stdout",
     "output_type": "stream",
     "text": [
      "Name: Alice, Age: 30, Gender: Female\n"
     ]
    }
   ],
   "source": [
    "class Person:\n",
    "    def __init__(self, name, age, gender):\n",
    "        self.name = name\n",
    "        self.age = age\n",
    "        self.gender = gender\n",
    "\n",
    "    def __str__(self):\n",
    "        return f\"Name: {self.name}, Age: {self.age}, Gender: {self.gender}\"\n",
    "\n",
    "# Example usage:\n",
    "person1 = Person(\"Alice\", 30, \"Female\")\n",
    "print(person1)  \n"
   ]
  },
  {
   "cell_type": "code",
   "execution_count": 5,
   "metadata": {},
   "outputs": [],
   "source": [
    "import requests\n",
    "\n",
    "def fetch_data_from_api():\n",
    "    url = \"http://api.openweathermap.org/data/2.5/weather?\"\n",
    "    response = requests.get(url)\n",
    "    \n",
    "    if response.status_code == 200:\n",
    "        return response.json()\n",
    "    \n",
    "\n",
    "# Example usage:\n",
    "data = fetch_data_from_api()\n",
    "if data:\n",
    "    print(data)\n"
   ]
  },
  {
   "cell_type": "code",
   "execution_count": 6,
   "metadata": {},
   "outputs": [
    {
     "name": "stdout",
     "output_type": "stream",
     "text": [
      "['date', 'apple', 'banana', 'cherry']\n"
     ]
    }
   ],
   "source": [
    "strings = ['apple', 'banana', 'cherry', 'date']\n",
    "sorted_strings = sorted(strings, key=lambda x: len(x))\n",
    "print(sorted_strings)\n"
   ]
  },
  {
   "cell_type": "code",
   "execution_count": 7,
   "metadata": {},
   "outputs": [
    {
     "name": "stdout",
     "output_type": "stream",
     "text": [
      "Driving a vehicle.\n",
      "Driving a car.\n",
      "Driving a truck.\n",
      "Driving a motorcycle.\n"
     ]
    }
   ],
   "source": [
    "class Vehicle:\n",
    "    def drive(self):\n",
    "        print(\"Driving a vehicle.\")\n",
    "\n",
    "class Car(Vehicle):\n",
    "    def drive(self):\n",
    "        print(\"Driving a car.\")\n",
    "\n",
    "class Truck(Vehicle):\n",
    "    def drive(self):\n",
    "        print(\"Driving a truck.\")\n",
    "\n",
    "class Motorcycle(Vehicle):\n",
    "    def drive(self):\n",
    "        print(\"Driving a motorcycle.\")\n",
    "\n",
    "vehicle = Vehicle()\n",
    "vehicle.drive()  \n",
    "\n",
    "car = Car()\n",
    "car.drive()  \n",
    "\n",
    "truck = Truck()\n",
    "truck.drive()  \n",
    "\n",
    "motorcycle = Motorcycle()\n",
    "motorcycle.drive()  "
   ]
  },
  {
   "cell_type": "code",
   "execution_count": null,
   "metadata": {},
   "outputs": [],
   "source": []
  }
 ],
 "metadata": {
  "kernelspec": {
   "display_name": "Python 3",
   "language": "python",
   "name": "python3"
  },
  "language_info": {
   "codemirror_mode": {
    "name": "ipython",
    "version": 3
   },
   "file_extension": ".py",
   "mimetype": "text/x-python",
   "name": "python",
   "nbconvert_exporter": "python",
   "pygments_lexer": "ipython3",
   "version": "3.12.2"
  }
 },
 "nbformat": 4,
 "nbformat_minor": 2
}
